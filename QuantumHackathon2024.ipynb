{
 "cells": [
  {
   "cell_type": "markdown",
   "id": "914e9c2a-97e0-4b6d-b242-2ae5ef19c42a",
   "metadata": {},
   "source": [
    "# Run these 4 cells first "
   ]
  },
  {
   "cell_type": "code",
   "execution_count": null,
   "id": "d90a04a3-d6db-4d59-b240-ed3aa15dfd3d",
   "metadata": {},
   "outputs": [],
   "source": [
    "pip install qiskit-algorithms"
   ]
  },
  {
   "cell_type": "code",
   "execution_count": null,
   "id": "2750906a-0c46-4c10-82d7-03c37e3df38e",
   "metadata": {},
   "outputs": [],
   "source": [
    "pip install qiskit-aer"
   ]
  },
  {
   "cell_type": "code",
   "execution_count": 3,
   "id": "a134323a-b59c-49dd-bca6-04123b7ae194",
   "metadata": {
    "tags": []
   },
   "outputs": [
    {
     "name": "stderr",
     "output_type": "stream",
     "text": [
      "qiskit_runtime_service.__init__:INFO:2024-03-02 19:50:09,382: Default instance: ibm-q/open/main\n"
     ]
    }
   ],
   "source": [
    "# Importing standard Qiskit libraries\n",
    "from qiskit import QuantumCircuit, transpile\n",
    "from qiskit.visualization import *\n",
    "from ibm_quantum_widgets import *\n",
    "\n",
    "# qiskit-ibmq-provider has been deprecated.\n",
    "# Please see the Migration Guides in https://ibm.biz/provider_migration_guide for more detail.\n",
    "from qiskit_ibm_runtime import QiskitRuntimeService, Sampler, Estimator, Session, Options\n",
    "\n",
    "# Loading your IBM Quantum account(s)\n",
    "service = QiskitRuntimeService(channel=\"ibm_quantum\")\n",
    "\n",
    "# Invoke a primitive. For more details see https://docs.quantum-computing.ibm.com/run/primitives\n",
    "# result = Sampler().run(circuits).result()"
   ]
  },
  {
   "cell_type": "code",
   "execution_count": 5,
   "id": "1a91691b-5076-46d4-adb3-11ada0daebd9",
   "metadata": {},
   "outputs": [
    {
     "name": "stdout",
     "output_type": "stream",
     "text": [
      "<IBMProvider>\n",
      "AerSimulator('aer_simulator')\n"
     ]
    }
   ],
   "source": [
    "from qiskit_ibm_provider import IBMProvider\n",
    "from qiskit_aer import AerSimulator\n",
    "provider = IBMProvider()\n",
    "print(provider)\n",
    "backend=AerSimulator()\n",
    "print(backend)"
   ]
  },
  {
   "attachments": {
    "bf414949-5686-4326-bdaf-d04bfc87901d.png": {
     "image/png": "[encoded data removed]"
    }
   },
   "cell_type": "markdown",
   "id": "c8d66a41-f896-40e8-bd2d-8b115a3daeb6",
   "metadata": {},
   "source": [
    "## Challenge #1\n",
    "# Create a time evolved ising spin chain VQE circuit and use it to get the magnetization of the system over time\n",
    "    \n",
    "# Intro to problem\n",
    "    Magnetic and electric fields are all around us and interact with the world, even down to the atomic level. These interactions are usually benign but can also be interactions we would want to model to predict the interaction between elements. One such model is the ising model, where a lattice of elements(not chemical elements) can have either a positive or negative spin, a +1 or a -1.\n",
    "![isingspin.png](attachment:bf414949-5686-4326-bdaf-d04bfc87901d.png)\n",
    "    The red and green arrows above represent the spin of the individual elements of the lattice.\n",
    "#    \n",
    "This model can be used, for example, to model the motion of atoms. As the atoms move through space and time, the ising model will show if a position is inhabited by an atom. A +1 showing a filled position and a -1 showing an empty position.\n",
    "# Problem description\n",
    "    Your task will be to model the evolution of an ising model as it evolves in the time domain using a quantum computer. To do this we will use a variable quantum eigensolver or VQE. VQE's use the the beneficial attributes of a quantum computer (superposition, entanglement, phase) to model complex systems and are especially well suited to NISQ devices as they have low circuit depth. They can also be hybrid solvers, using a classical computer to optimize the gates in their circuit in between calls to the quantum computer. This means they can provide a high fidelty of quantum operations since their depth is shorter.\n",
    "    We are looking for the total magnetic energy of a series of particles as a magnetic wave passes through them. There will be a hamiltonian describing this system and it will be your task to design the VQE to solve the ising problem. The specific VQE we will be using is the time evolved VQE.\n",
    "# Code description\n",
    "    You will be provided with a series of helper functions to assist you in designing the VQE. You will also have the hamiltonian provided to you. Your task is to use the API information, literature, and github to write the missing parts of the code and run the experiment on a simulator or on real hardware.\n",
    "    \n",
    "# Notes on the solution\n",
    "    We will be looking for two main deliverables\n",
    "1. A completed time evolved ising spin VQE circuit\n",
    "2. The results of an execution of this circuit, displaying the results returned from the simulator or real hardware. These results should be in tabular form and are generated by code from qiskit. We also want to see the results displayed on a graph with total magnetization on the y-axis and time on the x-axis.\n",
    "#\n",
    "Accompanying the deliverables above will be a write-up on the experiment and what the results would mean if you were to relay them back to a real system. This write up should also contain the following\n",
    "a)introduction\n",
    "b)description of the circuit\n",
    "c)description of the experiment (how long did it run, what does the circuit look like after it has been transpiled, etc)\n",
    "d)description of the results of the experiment\n",
    "e)what makes a quantum computer well suited to this task? Think back to the properties of superposition, entanglement, and phase.\n",
    "All other items considered equal, the write up will help us determine a winner. Spelling, grammar, and quality of the content will be factors in the judging."
   ]
  },
  {
   "cell_type": "markdown",
   "id": "f714ae1b-3174-46ca-bf8c-ce51ebf59064",
   "metadata": {},
   "source": [
    "# Usefull links\n",
    "https://github.com/qiskit-community/qiskit-algorithms/tree/main/qiskit_algorithms/time_evolvers\n",
    "-Qiskit time evolver VQE git repository\n",
    "\n",
    "Stefano Barison, Filippo Vicentini, and Giuseppe Carleo (2021), An efficient\n",
    "            quantum algorithm for the time evolution of parameterized circuits,\n",
    "            `Quantum 5, 512 <https://quantum-journal.org/papers/q-2021-07-28-512/>'\n",
    "            \n",
    "https://docs.quantum.ibm.com/\n",
    "-Qiskit documentation\n",
    "\n"
   ]
  },
  {
   "cell_type": "code",
   "execution_count": 6,
   "id": "21efacb1-84ad-4e7b-aa10-2a04369a9df4",
   "metadata": {},
   "outputs": [
    {
     "name": "stdout",
     "output_type": "stream",
     "text": [
      "SparsePauliOp(['IZZ', 'ZZI', 'IIX', 'IXI', 'XII'],\n",
      "              coeffs=[0.25+0.j, 0.25+0.j, 1.  +0.j, 1.  +0.j, 1.  +0.j])\n"
     ]
    }
   ],
   "source": [
    "import numpy as np\n",
    "import matplotlib.pyplot as plt \n",
    "\n",
    "\n",
    "from qiskit.quantum_info import Pauli, SparsePauliOp\n",
    "\n",
    "\n",
    "def generate_pauli(idx_x,idx_z,n):\n",
    "\t'''\n",
    "\tArgs:\n",
    "\t\tn (integer)\n",
    "\t\tidx (list)\n",
    "\tReturns:\n",
    "\t\ttensor product of Pauli operators acting on qubits in idx\n",
    "\t'''\n",
    "\n",
    "\txmask = [0]*n\n",
    "\tzmask = [0]*n\n",
    "\tfor i in idx_x : xmask[i] = 1\n",
    "\tfor i in idx_z : zmask[i] = 1\n",
    "\n",
    "\ta_x = np.asarray(xmask,dtype =bool)\n",
    "\ta_z = np.asarray(zmask,dtype =bool)\n",
    "\n",
    "\treturn Pauli((a_z,a_x))\n",
    "\n",
    "\n",
    "def generate_ising(n_spins,coup,field):\n",
    "\t'''\n",
    "\tArgs:\n",
    "\t\tn_spins (integer)\n",
    "\t\tcoup    (float)\n",
    "\t\tfield   (float)\n",
    "\t\t\n",
    "\tReturns:\n",
    "\t\tHamiltonian of Ising model with ZZ interaction a X transverse field\n",
    "\t'''\n",
    "\n",
    "\tint_list = []\n",
    "\tfield_list = []\n",
    "\n",
    "\n",
    "\tfor i in range(n_spins-1):\n",
    "\t\tint_list.append(generate_pauli([],[i,i+1],n_spins))\n",
    "\n",
    "\tfor i in range(n_spins):\n",
    "\t\tfield_list.append(generate_pauli([i],[],n_spins))\n",
    "\n",
    "\tint_coeff = [coup]*len(int_list)\n",
    "\tfield_coeff = [field]*len(field_list)\n",
    "\n",
    "\tH = SparsePauliOp(int_list[0],int_coeff[0])\n",
    "\n",
    "\tfor i in range(1,len(int_list)):\n",
    "\t\tH = H + SparsePauliOp(int_list[i],int_coeff[i])\n",
    "\n",
    "\tfor i in range(len(field_list)):\n",
    "\t\tH = H + SparsePauliOp(field_list[i],field_coeff[i])\n",
    "\n",
    "\treturn H\n",
    "\n",
    "\n",
    "spins   = 3\n",
    "V       = 0.25\n",
    "g       = 1.0\n",
    "\n",
    "H = generate_ising(spins,V,g)\n",
    "print(H)\n"
   ]
  },
  {
   "cell_type": "code",
   "execution_count": null,
   "id": "1fa31280-9982-45bc-8a92-23a9138b807e",
   "metadata": {},
   "outputs": [],
   "source": [
    "from qiskit_algorithms.state_fidelities import ComputeUncompute\n",
    "from qiskit_algorithms.time_evolvers import TimeEvolutionProblem, PVQD\n",
    "from qiskit.primitives import Estimator,BackendEstimator, Sampler\n",
    "from qiskit.circuit.library import EfficientSU2\n",
    "from qiskit.quantum_info import SparsePauliOp, Pauli\n",
    "from qiskit_algorithms.optimizers import L_BFGS_B\n",
    "\n",
    "sampler = ### ENTER CODE HERE ###\n",
    "fidelity = ### ENTER CODE HERE ###\n",
    "estimator = ### ENTER CODE HERE ###\n",
    "\n",
    "hamiltonian = H\n",
    "observable = SparsePauliOp([\"IZZ\",\"IIX\",\"IXI\"], coeffs = [1,1,1])\n",
    "ansatz = ### ENTER CODE HERE ###\n",
    "initial_parameters = np.zeros(ansatz.num_parameters)\n",
    "\n",
    "time = 1\n",
    "optimizer = ### ENTER CODE HERE ###\n",
    "\n",
    "# setup the algorithm\n",
    "pvqd = PVQD(\n",
    "    ### ENTER CODE HERE ###\n",
    ")\n",
    "\n",
    "# specify the evolution problem\n",
    "problem = TimeEvolutionProblem(\n",
    "    ### ENTER CODE HERE ###\n",
    ")\n",
    "\n",
    "# and evolve\n",
    "result = ##REMOVE COMMENT AND ENTER CODE HERE ###.evolve(problem)"
   ]
  },
  {
   "cell_type": "code",
   "execution_count": null,
   "id": "ccdd17e2-603c-4b95-b76f-485fac23dee0",
   "metadata": {},
   "outputs": [],
   "source": [
    "print(result)"
   ]
  },
  {
   "cell_type": "code",
   "execution_count": null,
   "id": "03b8291a-9149-4cbb-894e-bc3faf9e9c05",
   "metadata": {},
   "outputs": [],
   "source": [
    "plt.plot(result.times,result.observables)\n",
    "\n",
    "plt.show()"
   ]
  },
  {
   "cell_type": "markdown",
   "id": "4458eb11-df2a-4b7e-8314-16bf811bb3d3",
   "metadata": {},
   "source": [
    "## -------------------*******************-----------------------**********************----------------------------"
   ]
  },
  {
   "cell_type": "markdown",
   "id": "a0f8bef3-5a19-458f-ac45-3da7e101a189",
   "metadata": {},
   "source": [
    "# Challenge #2 \n",
    "## Replace the CNOT entanglement gates of an Ansatz with feed-forward dynamic circuits\n",
    "\n",
    "# Intro to problem\n",
    "    Imagine you are a researcher using a quantum computer to provide you with output critical to your research. Everything is going fine while you are designing the circuit until you find you don't have enough qubits on a single quantum computer to complete the experiment. Luckly your well supplied lab has two quantum computers on which you can run your experiments, but how can you run a single experiment on two different quantum computers?\n",
    "    To do this we will be using feed forward dynamic circuits. Dynamic circuits allow you implement mid-circuit measurements which can then be used to execute conditional gates on the qubits of you circuit.\n",
    "\n",
    "\n",
    "\n",
    "How does this help you distribute a circuit across two quantum computers? You can take some information about the circuit you are currently running using dynamic circuits and send it to another quantum computer. This will allow you to use the qubits of the second quantum computer in your experiment provided you combine the results of measurement into a single probability distribution.\n",
    "# Problem description\n",
    "Your task will be to take an existing circuit and change the c-not gates on one of the qubits to be executed as a feed-forward dynamic circuit. \n",
    "# Code description\n",
    "Since our circuit will start off with a low amount of qubits we do not require another quantum computer to get our results. To simulate needing another quantum computer we will be replacing the c-not gates on the bottom (MSB/MSQ) with a feed forward design. You could imagine that the qubit is in another register and belongs to another quantum computer.\n",
    "\n",
    "# Notes on the solution\n",
    "    We will be looking for the following deliverables.\n",
    "1. A new circuit the will give the same results as the provided circuit, only the bottom qubit will be entangled with the nearest adjacent qubit with a feed forward mechanism.\n",
    "2. The results of your execution of the new circuit you have developed. The results should match, or be very close to the results of the provided circuit. \n",
    "#\n",
    "Accompanying the deliverables above will be a write-up on the experiment and what the results would mean if you were to relay them back to a real system. This write up should also contain the following a)introduction b)description of the circuit c)description of the experiment (how long did it run, what does the circuit look like after it has been transpiled, etc) d)description of the results of the experiment e)what makes a quantum computer well suited to this task? Think back to the properties of superposition, entanglement, and phase. All other items considered equal, the write up will help us determine a winner. Spelling, grammar, and quality of the content will be factors in the judging."
   ]
  },
  {
   "cell_type": "markdown",
   "id": "e1dbae9d-962a-4025-80f2-0833db465e54",
   "metadata": {},
   "source": [
    "# Usefull links\n",
    "Elisa Bäumer, Vinay Tripathi, Derek S. Wang, Patrick Rall,\n",
    "Edward H. Chen, Swarnadeep Majumder, Alireza Seif, and Zlatko K. Minev (2023),Efficient Long-Range Entanglement using Dynamic Circuits,QIP 2024\n",
    "https://arxiv.org/pdf/2308.13065.pdf\n",
    "            \n",
    "https://docs.quantum.ibm.com/\n",
    "-Qiskit documentation"
   ]
  },
  {
   "cell_type": "code",
   "execution_count": null,
   "id": "e2209cab-b425-4049-b6e9-b3d125c82af0",
   "metadata": {},
   "outputs": [],
   "source": [
    "def build_callback(ansatz, hamiltonian, estimator, callback_dict):\n",
    "    \"\"\"Return callback function that uses Estimator instance,\n",
    "    and stores intermediate values into a dictionary.\n",
    "\n",
    "    Parameters:\n",
    "        ansatz (QuantumCircuit): Parameterized ansatz circuit\n",
    "        hamiltonian (SparsePauliOp): Operator representation of Hamiltonian\n",
    "        estimator (Estimator): Estimator primitive instance\n",
    "        callback_dict (dict): Mutable dict for storing values\n",
    "\n",
    "    Returns:\n",
    "        Callable: Callback function object\n",
    "    \"\"\"\n",
    "\n",
    "    def callback(eval_count, params, value, meta):\n",
    "        # Keep track of the number of iterations\n",
    "        callback_dict[\"eval_count\"].append(eval_count)\n",
    "        # Set the prev_vector to the latest one\n",
    "        callback_dict[\"params\"].append(params) \n",
    "        # Compute the value of the cost function at the current vector\n",
    "        # This adds an additional function evaluation\n",
    "        callback_dict[\"value\"].append(value)\n",
    "        # Print to screen on single line\n",
    "        callback_dict[\"meta\"].append(meta)\n",
    "        print(\n",
    "            \"Evals. done: {} [value: {}]\".format(eval_count, value),\n",
    "            end=\"\\r\",\n",
    "            flush=True,\n",
    "        )\n",
    "\n",
    "    return callback"
   ]
  },
  {
   "cell_type": "code",
   "execution_count": null,
   "id": "e6fd3f35-75b1-4a7d-87a4-27f9815524a8",
   "metadata": {},
   "outputs": [],
   "source": [
    "from qiskit.primitives import BackendEstimator\n",
    "from qiskit.circuit.library import PauliTwoDesign,RealAmplitudes\n",
    "from qiskit_algorithms.optimizers import SPSA\n",
    "from qiskit_aer import Aer\n",
    "from qiskit.compiler import transpile\n",
    "from functools import partial\n",
    "from scipy.optimize import minimize\n",
    "from qiskit_algorithms.minimum_eigensolvers import VQE\n",
    "from qiskit.quantum_info.operators import Operator\n",
    "from qiskit.quantum_info import SparsePauliOp\n",
    "\n",
    "callback_dict = {\n",
    "    \"eval_count\": [], \n",
    "    \"params\": [], \n",
    "    \"value\": [], \n",
    "    \"meta\": []\n",
    "}\n",
    "\n",
    "\n",
    "num_qubits = 4\n",
    "reps = 3\n",
    "seed = 0\n",
    "\n",
    "spsa=SPSA(maxiter=100)\n",
    "aer_simulator = Aer.get_backend('aer_simulator')\n",
    "estimator = BackendEstimator(backend=aer_simulator)\n",
    "optimizer = partial(minimize, method=\"L-BFGS-B\")\n",
    "\n",
    "hamiltonian = 1 * SparsePauliOp([\"ZZII\", \"IZII\", \"ZIII\", \"ZZII\"])\n",
    "callback_func = build_callback(circuit, hamiltonian, estimator, callback_dict)\n",
    "circuit = RealAmplitudes(num_qubits,reps=reps)\n",
    "result = VQE(estimator=estimator,ansatz=circuit,optimizer=spsa,callback=callback_func).compute_minimum_eigenvalue(hamiltonian)\n"
   ]
  },
  {
   "cell_type": "code",
   "execution_count": null,
   "id": "e38a3c3e-1e7a-42d3-947f-28764ad525ed",
   "metadata": {},
   "outputs": [],
   "source": [
    "circuit.decompose().draw('mpl')"
   ]
  },
  {
   "cell_type": "code",
   "execution_count": null,
   "id": "8ec4e10f-b7a8-494c-859b-4bc451f5e26d",
   "metadata": {},
   "outputs": [],
   "source": [
    "#Standard C-NOT gates\n",
    "\n",
    "print(result)\n",
    "fig, ax = plt.subplots()\n",
    "evals = []\n",
    "for p in range(1808):\n",
    "    evals.append(p)\n",
    "ax.plot(callback_dict[\"eval_count\"], callback_dict[\"value\"])\n",
    "ax.set_xlabel(\"Iterations\")\n",
    "ax.set_ylabel(\"value\")\n",
    "plt.draw()"
   ]
  },
  {
   "cell_type": "code",
   "execution_count": null,
   "id": "d8455e43-5b51-4d13-9682-4fbdceba0432",
   "metadata": {
    "tags": []
   },
   "outputs": [],
   "source": [
    "from qiskit import QuantumCircuit,ClassicalRegister, QuantumRegister\n",
    "from qiskit.circuit import Parameter\n",
    "# param_list = []\n",
    "# angle = Parameter(\"angle\"+ str(1))\n",
    "# param_list.append(angle)\n",
    "\n",
    "alpha_register = QuantumRegister(4)\n",
    "classic_reg = ClassicalRegister(1)\n",
    "new_circuit = QuantumCircuit(alpha_register,classic_reg)\n",
    "reps = 4\n",
    "angle_list=[]\n",
    "theta_count = 0\n",
    "\n",
    "\n",
    "for i in ### ENTER CODE HERE ###:\n",
    "    for l ### ENTER CODE HERE ###:\n",
    "        ### ENTER CODE HERE ###\n",
    "\n",
    "    for b in range(2,0,-1):\n",
    "        new_circuit.cx(b-1,b)\n",
    "    ### ENTER CODE HERE ###\n",
    "\n",
    "\n",
    "new_circuit.draw('mpl')"
   ]
  },
  {
   "cell_type": "code",
   "execution_count": null,
   "id": "7a2ab33f-d5b3-4f61-b0a2-0c51b0c9e066",
   "metadata": {},
   "outputs": [],
   "source": [
    "#Feed forward dynamic circuit\n",
    "\n",
    "print(result)\n",
    "fig, ax = plt.subplots()\n",
    "evals = []\n",
    "for p in range(2863):\n",
    "    evals.append(p)\n",
    "ax.plot(callback_dict[\"eval_count\"], callback_dict[\"value\"])\n",
    "ax.set_xlabel(\"Iterations\")\n",
    "ax.set_ylabel(\"value\")\n",
    "plt.draw()"
   ]
  },
  {
   "cell_type": "markdown",
   "id": "6dedc4f0-205c-4059-af32-f72811c395ab",
   "metadata": {},
   "source": [
    "## -------------------*******************-----------------------**********************----------------------------"
   ]
  },
  {
   "cell_type": "markdown",
   "id": "10f3681f-569e-4d6e-a65f-d765f41d9a85",
   "metadata": {},
   "source": [
    "# Challenge #3 \n",
    "## Correcting errors with a logical qubit\n",
    "\n",
    "# Intro to problem\n",
    " Quantum computers currently can experience noise in their output due to their computation occurring at the scale we need quantum mechanics to describe. This noise will alter and change the expected output into one that is different in one of two ways. A bit-flip error or a phase flip error. The former error causing, at the point in computation on the particular qubit the error occurred, a change in the qubit's binary state. A one will become a zero and a zero will become a one. The latter error will cause, again at the point in computation and on the qubit where the error occurred, a change in the qubit's phase. A + will become a - and a - will become a +. These errors can also overlap with a combined bit and phase flip.\n",
    " We are alleviating these errors on current hardware with error mitigation and error suppression, methods which use statistical analysis and device profiling to mitigate and suppress errors to give you the output you were looking for. These methods are available on IBM hardware currently. In the next decade we will be solving errors with error correction, where you create a logical qubit out of many physical qubits. To the developer, their code can stay mostly the same and they will address the qubits they would theoretically need to compute their results. On the quantum computer, the code acting on a single qubit will be acting on multiple qubits. Why would using more noisy qubits result in less noise? If you get the error rate of all of the qubits below a certain percentage, say 1%, you can posit that out of a number of qubits you would only have a low number of qubits experience an error. So low a number that if you were to encode a gate onto the group of qubits, you could use the other qubits in the group to correct any errors that appear on any qubits in the group. You could then measure the group of qubits at the same time and if the qubits all agree on the error, you can know that the result you got was without error.\n",
    "# Problem description\n",
    " You will be creating one of these logical qubits, specifically the bottom image below. Using the images provided below, write a circuit creating the logical qubit and execute a series of gates on this qubit.\n",
    "# [SEE IMAGES]\n",
    " PAGE 6 - Austin G. Fowler, Matteo Mariantoni, John M. Martinis and Andrew N. Cleland (2012),Surface codes: Towards practical large-scale quantum computation,Phys. Rev. A 86, 032324\n",
    " \n",
    " PAGE 15 - Austin G. Fowler, Matteo Mariantoni, John M. Martinis and Andrew N. Cleland (2012),Surface codes: Towards practical large-scale quantum computation,Phys. Rev. A 86, 032324\n",
    " \n",
    " Both images were taken from the paper: Austin G. Fowler, Matteo Mariantoni, John M. Martinis and Andrew N. Cleland (2012),Surface codes: Towards practical large-scale quantum computation,Phys. Rev. A 86, 032324\n",
    "# Code description\n",
    "You will have to prepare the surface code(the name for this particular error correcting code) from the images above using Qiskit. You will then measure the qubits involved in the logical qubit and see what results were encountered. After you have the results of the circuit execution with the helper code provided below, you will do classical post-processing to correct the errors in your results and re-count your outputs to build a new probability distribution. We are also looking to see the results of a sample set of gates applied to the circuit and their error corrected output measurement. \n",
    "# Notes on the solution\n",
    "Hint: There are two components to the surface code. Data qubits and check qubits; only one of them should have the sample gates applied to them.\n",
    "    We will be looking for the following deliverables.\n",
    "1. A circuit containing a logical z-cut qubit\n",
    "2. A post-processing program written in python or another language if cleared by the judges first.\n",
    "3. Results of running the circuit, both with and without gates applied to the logical qubit, corrected by your post processing program\n",
    "#\n",
    "Accompanying the deliverables above will be a write-up on the experiment and what the results would mean if you were to relay them back to a real system. This write up should also contain the following a)introduction b)description of the circuit c)description of the experiment (how long did it run, what does the circuit look like after it has been transpiled, etc) d)description of the results of the experiment e)what makes a quantum computer well suited to this task? Think back to the properties of superposition, entanglement, and phase. All other items considered equal, the write up will help us determine a winner. Spelling, grammar, and quality of the content will be factors in the judging."
   ]
  },
  {
   "cell_type": "markdown",
   "id": "7bdd5b55-d92c-4662-9cfa-eb63dc48c9bc",
   "metadata": {
    "tags": []
   },
   "source": [
    "# Usefull links\n",
    "Austin G. Fowler, Matteo Mariantoni, John M. Martinis and Andrew N. Cleland (2012),Surface codes: Towards practical large-scale quantum computation,Phys. Rev. A 86, 032324\n",
    "https://arxiv.org/ftp/arxiv/papers/1208/1208.0928.pdf\n",
    "            \n",
    "https://docs.quantum.ibm.com/\n",
    "-Qiskit documentation"
   ]
  },
  {
   "cell_type": "code",
   "execution_count": null,
   "id": "e08b14e0-c135-45db-976e-1ffe61f010c8",
   "metadata": {},
   "outputs": [],
   "source": [
    "def bit_flip(binary,bit):\n",
    "    if binary[bit] == '1':\n",
    "        binary[bit] = '0'\n",
    "    else:\n",
    "        binary[bit] = '1'\n",
    "    return binary"
   ]
  },
  {
   "cell_type": "code",
   "execution_count": null,
   "id": "f7b39607-7a3f-40aa-867d-84d7c995e0b5",
   "metadata": {},
   "outputs": [],
   "source": [
    "from qiskit import ClassicalRegister, QuantumRegister\n",
    "from qiskit.primitives import BackendSampler\n",
    "from qiskit.circuit import Parameter\n",
    "from numpy import pi\n",
    "\n",
    "alpha_register = QuantumRegister(12)\n",
    "\n",
    "creg = ClassicalRegister(12)\n",
    "\n",
    "new_circuit = QuantumCircuit(alpha_register,creg)\n",
    "\n",
    "for i in range(11):\n",
    "    if i % 2 == 0:\n",
    "        #The three gates we want you to apply to the logical qubit\n",
    "        #new_circuit.rx(pi/5,i)\n",
    "        #new_circuit.h(i)\n",
    "        #new_circuit.x(i)\n",
    "### ENTER CODE HERE ###\n",
    "\n",
    "tqc = transpile(new_circuit,backend)\n",
    "results = BackendSampler(backend=backend).run(tqc).result()"
   ]
  },
  {
   "cell_type": "code",
   "execution_count": null,
   "id": "b02ce64f-2fdd-462a-8d69-0739ad1360b9",
   "metadata": {},
   "outputs": [],
   "source": [
    "distribution = results.quasi_dists[0].binary_probabilities()"
   ]
  },
  {
   "cell_type": "code",
   "execution_count": null,
   "id": "ea05ee43-a62e-44be-967d-be3f97290a5f",
   "metadata": {},
   "outputs": [],
   "source": [
    "ones = 0\n",
    "zeros = 0\n",
    "others = 0\n",
    "for entry in distribution.keys():\n",
    "    ### ENTER CODE HERE ###"
   ]
  },
  {
   "cell_type": "code",
   "execution_count": null,
   "id": "2c73b2f9-f5a2-4f89-824a-8e7a3bf59cf0",
   "metadata": {},
   "outputs": [],
   "source": [
    "print(ones)\n",
    "print(zeros)\n",
    "print(others)"
   ]
  },
  {
   "cell_type": "code",
   "execution_count": null,
   "id": "4465b55f-00b0-45af-9404-e56165524d13",
   "metadata": {},
   "outputs": [],
   "source": []
  },
  {
   "cell_type": "markdown",
   "id": "ea5dd013-9ea1-4a5a-a07b-18132ccaea04",
   "metadata": {},
   "source": [
    "Questions designed by Morgan Cameron in 2024\n",
    "@IBM"
   ]
  },
  {
   "cell_type": "code",
   "execution_count": null,
   "id": "af789523-37c8-4a56-8635-b19a61145a08",
   "metadata": {},
   "outputs": [],
   "source": []
  }
 ],
 "metadata": {
  "kernelspec": {
   "display_name": "Qiskit v1.0.1 (ipykernel)",
   "language": "python",
   "name": "python3"
  },
  "language_info": {
   "codemirror_mode": {
    "name": "ipython",
    "version": 3
   },
   "file_extension": ".py",
   "mimetype": "text/x-python",
   "name": "python",
   "nbconvert_exporter": "python",
   "pygments_lexer": "ipython3",
   "version": "3.10.8"
  },
  "widgets": {
   "application/vnd.jupyter.widget-state+json": {
    "state": {},
    "version_major": 2,
    "version_minor": 0
   }
  }
 },
 "nbformat": 4,
 "nbformat_minor": 5
}
